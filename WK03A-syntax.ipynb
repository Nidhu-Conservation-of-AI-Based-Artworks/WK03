{
  "cells": [
    {
      "cell_type": "markdown",
      "metadata": {
        "id": "QshK8s21WBrf"
      },
      "source": [
        "# WK03A\n",
        "\n",
        "## Getting started with Python syntax"
      ]
    },
    {
      "cell_type": "markdown",
      "metadata": {},
      "source": [
        "### Notebooks\n",
        "\n",
        "Are nice.\n",
        "\n",
        "And they are very useful when we want to experiment with code because we can select which pieces of code we want to run, and in which order.\n",
        "\n",
        "Notebooks are also great for documenting experiments because we can add [Markdown](https://www.markdownguide.org/) code in special `markdonwn` cells to style the descriptions of our experiments."
      ]
    },
    {
      "cell_type": "code",
      "execution_count": 2,
      "metadata": {},
      "outputs": [
        {
          "name": "stdout",
          "output_type": "stream",
          "text": [
            "hello\n"
          ]
        }
      ],
      "source": [
        "# We can write code in code cells and select which cells/code we want to execute and when\n",
        "\n",
        "# Executing this cell creates a variable x with the value \"hello\"\n",
        "# And then we print the content of the variable x\n",
        "\n",
        "x = \"hello\"\n",
        "print(x)"
      ]
    },
    {
      "cell_type": "code",
      "execution_count": 1,
      "metadata": {},
      "outputs": [
        {
          "data": {
            "text/plain": [
              "'goodbye'"
            ]
          },
          "execution_count": 1,
          "metadata": {},
          "output_type": "execute_result"
        }
      ],
      "source": [
        "# Cells also display the result of the very last line of code\n",
        "\n",
        "x = \"goodbye\"\n",
        "x"
      ]
    },
    {
      "cell_type": "markdown",
      "metadata": {},
      "source": [
        "In the cell above, the very last expression evaluates to \"goodbye\", so the cell prints that or us."
      ]
    },
    {
      "cell_type": "code",
      "execution_count": 3,
      "metadata": {},
      "outputs": [
        {
          "name": "stdout",
          "output_type": "stream",
          "text": [
            "z: 359948\n",
            "d: 2635.28\n",
            "dd/dt: 672.8000000000001\n"
          ]
        }
      ],
      "source": [
        "# Like any programming language, if we don't use any control logic,\n",
        "# our interpreter is just a very complex algebra/boolean calculator\n",
        "\n",
        "x = 214\n",
        "y = 1682\n",
        "\n",
        "z = x * y\n",
        "\n",
        "t = 0.2\n",
        "d = 12 * x + y * t ** 2\n",
        "\n",
        "dd_dt = 2*y*t\n",
        "\n",
        "print(\"z:\", z)\n",
        "print(\"d:\", d)\n",
        "print(\"dd/dt:\", dd_dt)"
      ]
    },
    {
      "cell_type": "code",
      "execution_count": 4,
      "metadata": {},
      "outputs": [
        {
          "name": "stdout",
          "output_type": "stream",
          "text": [
            "The value of d is 2635.28, while the value of dd_dt is 672.8000000000001\n",
            "The value of d is 2635.28, while the value of dd_dt is 672.800\n"
          ]
        }
      ],
      "source": [
        "# We can also use smart/formatted/templated strings to mix constant text with variable\n",
        "\n",
        "print(f\"The value of d is {d}, while the value of dd_dt is {dd_dt}\")\n",
        "\n",
        "# Using :.<n>f we can adjust the number of decimal places we print\n",
        "print(f\"The value of d is {d}, while the value of dd_dt is {dd_dt:.3f}\")"
      ]
    },
    {
      "cell_type": "code",
      "execution_count": 5,
      "metadata": {},
      "outputs": [
        {
          "name": "stdout",
          "output_type": "stream",
          "text": [
            "Conservation class already started today: True\n"
          ]
        }
      ],
      "source": [
        "# We can also use Python to evaluate Boolean expressions\n",
        "\n",
        "current_hour = 17\n",
        "current_minute = 46\n",
        "\n",
        "current_week_day = \"thursday\"\n",
        "\n",
        "N9103_started = current_week_day == \"thursday\" and current_hour >= 11\n",
        "\n",
        "print(f\"Conservation class already started today: {N9103_started}\")"
      ]
    },
    {
      "cell_type": "code",
      "execution_count": 6,
      "metadata": {},
      "outputs": [
        {
          "name": "stdout",
          "output_type": "stream",
          "text": [
            "Conservation class is currently running: False\n"
          ]
        }
      ],
      "source": [
        "# TODO: add logic to make the above statement print true only if DMGY 9103N is currently happening\n",
        "# HINT: DMGY 9103N is running if it has started and not ended\n",
        "\n",
        "N9103_ended = current_week_day == \"thursday\" and current_hour > 17 and current_minute >= 46\n",
        "\n",
        "print(f\"Conservation class is currently running: {N9103_started and (not N9103_ended)}\")"
      ]
    },
    {
      "cell_type": "markdown",
      "metadata": {
        "id": "7Hf8SXUwWOho"
      },
      "source": [
        "### if / else\n",
        "\n",
        "JavaScript / C++ / Java:\n",
        "\n",
        "```js\n",
        "const n = 8;\n",
        "\n",
        "if (n > 10) {\n",
        "  print(\"n is greater than 10\");\n",
        "} else if (n > 5) {\n",
        "  print(\"n is between 5 and 10\");\n",
        "} else {\n",
        "  print(\"n is 5 or less\");\n",
        "}\n",
        "```\n",
        "\n",
        "Python:"
      ]
    },
    {
      "cell_type": "code",
      "execution_count": 7,
      "metadata": {},
      "outputs": [
        {
          "name": "stdout",
          "output_type": "stream",
          "text": [
            "n is between 5 and 10\n"
          ]
        }
      ],
      "source": [
        "n = 8\n",
        "\n",
        "if n > 10:\n",
        "  print(\"n is greater than 10\")\n",
        "elif n > 5:\n",
        "  print(\"n is between 5 and 10\")\n",
        "else:\n",
        "  print(\"n is 5 or less\")"
      ]
    },
    {
      "cell_type": "markdown",
      "metadata": {},
      "source": [
        "### iterate with counter\n",
        "\n",
        "JavaScript / C++ / Java:\n",
        "\n",
        "```js\n",
        "for (let c = 0; c < 10; c++) {\n",
        "  print(c);\n",
        "}\n",
        "\n",
        "for (let c = 10; c < 50; c+=5) {\n",
        "  print(c);\n",
        "}\n",
        "```\n",
        "\n",
        "Python:\n",
        "\n",
        "In Python, the structure of the for loop is different because we're forced to iterate over a sequence of objects.\n",
        "\n",
        "When we want to create a loop with a counter we can use the built-in `range()` function to create sequences of integers to iterate over.\n",
        "\n",
        "<img src=\"./imgs/range.jpg\" width=\"500px\" />\n"
      ]
    },
    {
      "cell_type": "code",
      "execution_count": 8,
      "metadata": {},
      "outputs": [
        {
          "name": "stdout",
          "output_type": "stream",
          "text": [
            "0\n",
            "1\n",
            "2\n",
            "3\n",
            "4\n",
            "5\n",
            "6\n",
            "7\n",
            "8\n",
            "9\n"
          ]
        }
      ],
      "source": [
        "for c in range(10):\n",
        "  print(c)"
      ]
    },
    {
      "cell_type": "code",
      "execution_count": 12,
      "metadata": {},
      "outputs": [
        {
          "name": "stdout",
          "output_type": "stream",
          "text": [
            "range(0, 10)\n",
            "<class 'range'>\n",
            "[0, 1, 2, 3, 4, 5, 6, 7, 8, 9]\n"
          ]
        }
      ],
      "source": [
        "# TODO: print the result of the range() expression.\n",
        "# TODO: What's its type ?\n",
        "# TODO: How can we turn a range object into a regular list ?\n",
        "\n",
        "print(range(10))\n",
        "print(type(range(0,10)))\n",
        "x = list(range(10))\n",
        "print(x)"
      ]
    },
    {
      "cell_type": "markdown",
      "metadata": {},
      "source": [
        "### Sequences with steps\n",
        "\n",
        "The third argument to the `range()` functions specifies the step between items in the resulting sequence.\n",
        "\n",
        "For example, to create a sequence of integers from $10$ to $50$, while skipping by $5$ we can use:"
      ]
    },
    {
      "cell_type": "code",
      "execution_count": 13,
      "metadata": {},
      "outputs": [
        {
          "name": "stdout",
          "output_type": "stream",
          "text": [
            "10\n",
            "15\n",
            "20\n",
            "25\n",
            "30\n",
            "35\n",
            "40\n",
            "45\n"
          ]
        }
      ],
      "source": [
        "for c in range(10, 50, 5):\n",
        "  print(c)"
      ]
    },
    {
      "cell_type": "markdown",
      "metadata": {},
      "source": [
        "### Print all numbers between $100$ and $200$ that end in $3$"
      ]
    },
    {
      "cell_type": "code",
      "execution_count": 14,
      "metadata": {},
      "outputs": [
        {
          "name": "stdout",
          "output_type": "stream",
          "text": [
            "103\n",
            "113\n",
            "123\n",
            "133\n",
            "143\n",
            "153\n",
            "163\n",
            "173\n",
            "183\n",
            "193\n"
          ]
        }
      ],
      "source": [
        "# TODO: Print numbers between 100 and 200 that end in 3\n",
        "for i in range(100, 200):\n",
        "    if i%10 == 3:\n",
        "        print(i)"
      ]
    },
    {
      "cell_type": "markdown",
      "metadata": {},
      "source": [
        "### iterate over array/list\n",
        "\n",
        "JavaScript / C++ / Java:\n",
        "\n",
        "```js\n",
        "const array = [ 0, 1, 3, 6, 2, 7, 13, 20, 12, 21, 11, 22 ];\n",
        "\n",
        "for (let idx = 0; idx < array.length; idx++) {\n",
        "  print(array[idx]);\n",
        "}\n",
        "```\n",
        "\n",
        "Python:"
      ]
    },
    {
      "cell_type": "code",
      "execution_count": 15,
      "metadata": {},
      "outputs": [
        {
          "name": "stdout",
          "output_type": "stream",
          "text": [
            "0\n",
            "1\n",
            "3\n",
            "6\n",
            "2\n",
            "7\n",
            "13\n",
            "20\n",
            "12\n",
            "21\n",
            "11\n",
            "22\n"
          ]
        }
      ],
      "source": [
        "array = [ 0, 1, 3, 6, 2, 7, 13, 20, 12, 21, 11, 22 ]\n",
        "\n",
        "for val in array:\n",
        "  print(val)"
      ]
    },
    {
      "cell_type": "markdown",
      "metadata": {},
      "source": [
        "### Functions\n",
        "\n",
        "In Python we declare functions using the `def` keyword:"
      ]
    },
    {
      "cell_type": "code",
      "execution_count": 16,
      "metadata": {},
      "outputs": [
        {
          "name": "stdout",
          "output_type": "stream",
          "text": [
            "The square root of 0 is 0.0\n",
            "The square root of 1 is 1.0\n",
            "The square root of 3 is 1.7320508075688772\n",
            "The square root of 6 is 2.449489742783178\n",
            "The square root of 2 is 1.4142135623730951\n",
            "The square root of 7 is 2.6457513110645907\n",
            "The square root of 13 is 3.605551275463989\n",
            "The square root of 20 is 4.47213595499958\n",
            "The square root of 12 is 3.4641016151377544\n",
            "The square root of 21 is 4.58257569495584\n",
            "The square root of 11 is 3.3166247903554\n",
            "The square root of 22 is 4.69041575982343\n"
          ]
        }
      ],
      "source": [
        "def sqrt(x):\n",
        "  return x ** 0.5\n",
        "\n",
        "array = [ 0, 1, 3, 6, 2, 7, 13, 20, 12, 21, 11, 22 ]\n",
        "\n",
        "for val in array:\n",
        "  print(f\"The square root of {val} is {sqrt(val)}\")"
      ]
    },
    {
      "cell_type": "markdown",
      "metadata": {},
      "source": [
        "### Lists (syntax)\n",
        "\n",
        "Create, access, iterate, sort:"
      ]
    },
    {
      "cell_type": "code",
      "execution_count": 17,
      "metadata": {},
      "outputs": [
        {
          "name": "stdout",
          "output_type": "stream",
          "text": [
            "1 5\n"
          ]
        }
      ],
      "source": [
        "# create a list\n",
        "xs = [1, 3, 2, 3, 5, 12, 80, 23, 56, 78]\n",
        "\n",
        "# access items\n",
        "print(xs[0], xs[4])"
      ]
    },
    {
      "cell_type": "code",
      "execution_count": 18,
      "metadata": {},
      "outputs": [
        {
          "name": "stdout",
          "output_type": "stream",
          "text": [
            "78 12\n"
          ]
        }
      ],
      "source": [
        "# access items ??\n",
        "print(xs[-1], xs[-5])"
      ]
    },
    {
      "cell_type": "code",
      "execution_count": 19,
      "metadata": {},
      "outputs": [
        {
          "name": "stdout",
          "output_type": "stream",
          "text": [
            "1\n",
            "3\n",
            "2\n",
            "3\n",
            "5\n",
            "12\n",
            "80\n",
            "23\n",
            "56\n",
            "78\n"
          ]
        }
      ],
      "source": [
        "# iterate\n",
        "for x in xs:\n",
        "  print(x)"
      ]
    },
    {
      "cell_type": "code",
      "execution_count": 20,
      "metadata": {},
      "outputs": [
        {
          "name": "stdout",
          "output_type": "stream",
          "text": [
            "[1, 2, 3, 3, 5, 12, 23, 56, 78, 80]\n",
            "[80, 78, 56, 23, 12, 5, 3, 3, 2, 1]\n"
          ]
        }
      ],
      "source": [
        "# sort\n",
        "\n",
        "sorted_xs = sorted(xs)\n",
        "print(sorted_xs)\n",
        "\n",
        "sorted_xs_rev = sorted(xs, reverse=True)\n",
        "print(sorted_xs_rev)"
      ]
    },
    {
      "cell_type": "markdown",
      "metadata": {},
      "source": [
        "### Dictionaries / Objects / Hash Maps (syntax)\n",
        "\n",
        "Create, access, iterate, sort:"
      ]
    },
    {
      "cell_type": "code",
      "execution_count": 21,
      "metadata": {},
      "outputs": [
        {
          "name": "stdout",
          "output_type": "stream",
          "text": [
            "thiago [86, 92, 95]\n"
          ]
        }
      ],
      "source": [
        "# create a dictionary\n",
        "vs = {\n",
        "  \"name\": \"thiago\",\n",
        "  \"id\": \"tgh8114\",\n",
        "  \"enrolled\": 2022,\n",
        "  \"grades\": [86, 92, 95]\n",
        "}\n",
        "\n",
        "# access items\n",
        "print(vs[\"name\"], vs[\"grades\"])"
      ]
    },
    {
      "cell_type": "code",
      "execution_count": 22,
      "metadata": {},
      "outputs": [
        {
          "name": "stdout",
          "output_type": "stream",
          "text": [
            "name thiago\n",
            "id tgh8114\n",
            "enrolled 2022\n",
            "grades [86, 92, 95]\n"
          ]
        }
      ],
      "source": [
        "# iterate\n",
        "\n",
        "for key, val in vs.items():\n",
        "  print(key, val)"
      ]
    },
    {
      "cell_type": "code",
      "execution_count": 32,
      "metadata": {},
      "outputs": [
        {
          "ename": "TypeError",
          "evalue": "string indices must be integers",
          "output_type": "error",
          "traceback": [
            "\u001b[0;31m---------------------------------------------------------------------------\u001b[0m",
            "\u001b[0;31mTypeError\u001b[0m                                 Traceback (most recent call last)",
            "Cell \u001b[0;32mIn[32], line 10\u001b[0m\n\u001b[1;32m      7\u001b[0m \u001b[38;5;28;01mdef\u001b[39;00m\u001b[38;5;250m \u001b[39m\u001b[38;5;21mbyEnrolled\u001b[39m(A):\n\u001b[1;32m      8\u001b[0m   \u001b[38;5;28;01mreturn\u001b[39;00m A[\u001b[38;5;124m\"\u001b[39m\u001b[38;5;124menrolled\u001b[39m\u001b[38;5;124m\"\u001b[39m]\n\u001b[0;32m---> 10\u001b[0m sorted_name \u001b[38;5;241m=\u001b[39m \u001b[38;5;28;43msorted\u001b[39;49m\u001b[43m(\u001b[49m\u001b[43mvs\u001b[49m\u001b[43m,\u001b[49m\u001b[43m \u001b[49m\u001b[43mkey\u001b[49m\u001b[38;5;241;43m=\u001b[39;49m\u001b[43mbyName\u001b[49m\u001b[43m)\u001b[49m\n\u001b[1;32m     11\u001b[0m \u001b[38;5;28mprint\u001b[39m(sorted_name)\n\u001b[1;32m     13\u001b[0m sorted_enrolled \u001b[38;5;241m=\u001b[39m \u001b[38;5;28msorted\u001b[39m(vs, key\u001b[38;5;241m=\u001b[39mbyEnrolled, reverse\u001b[38;5;241m=\u001b[39m\u001b[38;5;28;01mTrue\u001b[39;00m)\n",
            "Cell \u001b[0;32mIn[32], line 5\u001b[0m, in \u001b[0;36mbyName\u001b[0;34m(A)\u001b[0m\n\u001b[1;32m      3\u001b[0m \u001b[38;5;28;01mdef\u001b[39;00m\u001b[38;5;250m \u001b[39m\u001b[38;5;21mbyName\u001b[39m(A):\n\u001b[1;32m      4\u001b[0m   \u001b[38;5;66;03m# print(type(A))\u001b[39;00m\n\u001b[0;32m----> 5\u001b[0m   \u001b[38;5;28;01mreturn\u001b[39;00m \u001b[43mA\u001b[49m\u001b[43m[\u001b[49m\u001b[38;5;124;43m\"\u001b[39;49m\u001b[38;5;124;43mname\u001b[39;49m\u001b[38;5;124;43m\"\u001b[39;49m\u001b[43m]\u001b[49m\n",
            "\u001b[0;31mTypeError\u001b[0m: string indices must be integers"
          ]
        }
      ],
      "source": [
        "# sort\n",
        "\n",
        "def byName(A):\n",
        "  # print(type(A))\n",
        "  return A[\"name\"]\n",
        "\n",
        "def byEnrolled(A):\n",
        "  return A[\"enrolled\"]\n",
        "\n",
        "sorted_name = sorted(vs, key=byName)\n",
        "print(sorted_name)\n",
        "\n",
        "sorted_enrolled = sorted(vs, key=byEnrolled, reverse=True)\n",
        "print(sorted_enrolled)"
      ]
    }
  ],
  "metadata": {
    "colab": {
      "authorship_tag": "ABX9TyPxe2qYxIG7EblrvD1C4Pmv",
      "provenance": []
    },
    "kernelspec": {
      "display_name": "Python 3",
      "language": "python",
      "name": "python3"
    },
    "language_info": {
      "codemirror_mode": {
        "name": "ipython",
        "version": 3
      },
      "file_extension": ".py",
      "mimetype": "text/x-python",
      "name": "python",
      "nbconvert_exporter": "python",
      "pygments_lexer": "ipython3",
      "version": "3.10.16"
    }
  },
  "nbformat": 4,
  "nbformat_minor": 0
}
