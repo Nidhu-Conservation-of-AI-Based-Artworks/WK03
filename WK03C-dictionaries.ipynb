{
  "cells": [
    {
      "cell_type": "markdown",
      "metadata": {
        "id": "Ty-DVrJlaN1T"
      },
      "source": [
        "# WK03C\n",
        "\n",
        "## Some exercises with objects / dictionaries / hash maps"
      ]
    },
    {
      "cell_type": "markdown",
      "metadata": {
        "id": "s-e8uvrIca09"
      },
      "source": [
        "## Setup\n",
        "\n",
        "Let's import some helper functions and libraries"
      ]
    },
    {
      "cell_type": "code",
      "execution_count": 1,
      "metadata": {
        "id": "uHIQDMJ-WTei"
      },
      "outputs": [],
      "source": [
        "import random"
      ]
    },
    {
      "cell_type": "markdown",
      "metadata": {},
      "source": [
        "## Objects/Dictionaries"
      ]
    },
    {
      "cell_type": "markdown",
      "metadata": {},
      "source": [
        "### Creating dictionaries"
      ]
    },
    {
      "cell_type": "code",
      "execution_count": 2,
      "metadata": {},
      "outputs": [
        {
          "data": {
            "text/plain": [
              "{'name': 'thiago',\n",
              " 'id': 1010,\n",
              " 'zip': 11001,\n",
              " 'grades': [90, 80, 60],\n",
              " 'attendance': [True, True, False, True, True],\n",
              " 'final grade': 'A'}"
            ]
          },
          "execution_count": 2,
          "metadata": {},
          "output_type": "execute_result"
        }
      ],
      "source": [
        "my_info = {\n",
        "  \"name\": \"thiago\",\n",
        "  \"id\": 1010,\n",
        "  \"zip\": 11001,\n",
        "  \"grades\": [90, 80, 60],\n",
        "  \"attendance\": [True, True, False, True, True],\n",
        "  \"final grade\": \"A\"\n",
        "}\n",
        "my_info"
      ]
    },
    {
      "cell_type": "markdown",
      "metadata": {},
      "source": [
        "### Accessing values at specific keys"
      ]
    },
    {
      "cell_type": "code",
      "execution_count": 3,
      "metadata": {},
      "outputs": [
        {
          "name": "stdout",
          "output_type": "stream",
          "text": [
            "thiago\n",
            "[90, 80, 60]\n"
          ]
        }
      ],
      "source": [
        "print(my_info[\"name\"])\n",
        "print(my_info[\"grades\"])"
      ]
    },
    {
      "cell_type": "markdown",
      "metadata": {},
      "source": [
        "### Modifying and Appending new key/values"
      ]
    },
    {
      "cell_type": "code",
      "execution_count": 4,
      "metadata": {},
      "outputs": [
        {
          "data": {
            "text/plain": [
              "{'name': 'thiago',\n",
              " 'id': 1010,\n",
              " 'zip': 11202,\n",
              " 'grades': [90, 80, 60],\n",
              " 'attendance': [True, True, False, True, True],\n",
              " 'final grade': 'A',\n",
              " 'course': 9103,\n",
              " 'section': 'N'}"
            ]
          },
          "execution_count": 4,
          "metadata": {},
          "output_type": "execute_result"
        }
      ],
      "source": [
        "my_info[\"zip\"] = 11202\n",
        "my_info[\"course\"] = 9103\n",
        "my_info[\"section\"] = \"N\"\n",
        "my_info"
      ]
    },
    {
      "cell_type": "markdown",
      "metadata": {},
      "source": [
        "### Iterate over a dictionary"
      ]
    },
    {
      "cell_type": "code",
      "execution_count": 5,
      "metadata": {},
      "outputs": [
        {
          "name": "stdout",
          "output_type": "stream",
          "text": [
            "name : thiago\n",
            "id : tgh\n"
          ]
        }
      ],
      "source": [
        "obj = {\n",
        "  \"name\": \"thiago\",\n",
        "  \"id\": \"tgh\"\n",
        "}\n",
        "\n",
        "for key, val in obj.items():\n",
        "  print(key, \":\", val)"
      ]
    },
    {
      "cell_type": "markdown",
      "metadata": {},
      "source": [
        "### Iterating over keys, values and items\n",
        "\n",
        "Using a dictionary's `keys()`, `values()` and `items()` functions.\n",
        "\n",
        "[Documentation](https://docs.python.org/3/tutorial/datastructures.html#looping-techniques)."
      ]
    },
    {
      "cell_type": "code",
      "execution_count": 7,
      "metadata": {},
      "outputs": [
        {
          "name": "stdout",
          "output_type": "stream",
          "text": [
            "my info key: name\n",
            "my info key: id\n",
            "my info key: zip\n",
            "my info key: grades\n",
            "my info key: attendance\n",
            "my info key: final grade\n",
            "my info key: course\n",
            "my info key: section\n",
            "my info value: thiago\n",
            "my info value: 1010\n",
            "my info value: 11202\n",
            "my info value: [90, 80, 60]\n",
            "my info value: [True, True, False, True, True]\n",
            "my info value: A\n",
            "my info value: 9103\n",
            "my info value: N\n",
            "Key value pair: name : thiago\n",
            "Key value pair: id : 1010\n",
            "Key value pair: zip : 11202\n",
            "Key value pair: grades : [90, 80, 60]\n",
            "Key value pair: attendance : [True, True, False, True, True]\n",
            "Key value pair: final grade : A\n",
            "Key value pair: course : 9103\n",
            "Key value pair: section : N\n"
          ]
        }
      ],
      "source": [
        "# TODO use my_info.keys(), .values() and .items() to print contents of dictionary\n",
        "for key in my_info.keys():\n",
        "    print(\"my info key:\", key)\n",
        "for value in my_info.values():\n",
        "    print(\"my info value:\", value)\n",
        "for key, value in my_info.items():\n",
        "    print(\"Key value pair:\", key, \":\", value)"
      ]
    },
    {
      "cell_type": "markdown",
      "metadata": {},
      "source": [
        "## List of dictionaries\n",
        "\n",
        "### Iterate over list of dictionaries"
      ]
    },
    {
      "cell_type": "code",
      "execution_count": 8,
      "metadata": {},
      "outputs": [
        {
          "name": "stdout",
          "output_type": "stream",
          "text": [
            "name : thiago\n",
            "id : tgh\n",
            "name : lex\n",
            "id : lxg\n"
          ]
        }
      ],
      "source": [
        "mdata = [{\n",
        "  \"name\": \"thiago\",\n",
        "  \"id\": \"tgh\"\n",
        "},\n",
        "{\n",
        "  \"name\": \"lex\",\n",
        "  \"id\": \"lxg\"\n",
        "}]\n",
        "\n",
        "for data in mdata:\n",
        "  for key, val in data.items():\n",
        "    print(key, \":\", val)"
      ]
    },
    {
      "cell_type": "markdown",
      "metadata": {},
      "source": [
        "### Create a list of dictionaries\n",
        "\n",
        "Create a list of 10 dictionaries with random heights and brooklyn zip codes.\n",
        "\n",
        "```python\n",
        "my_data = [\n",
        "  {\"height\": [60, 70], \"zip\": [11200, 11250]},\n",
        "  {\"height\": [60, 70], \"zip\": [11200, 11250]},\n",
        "  {\"height\": [60, 70], \"zip\": [11200, 11250]},\n",
        "  ...\n",
        "]\n",
        "```"
      ]
    },
    {
      "cell_type": "code",
      "execution_count": 11,
      "metadata": {},
      "outputs": [
        {
          "data": {
            "text/plain": [
              "[{'height': [60, 70], 'zip': [11200, 11250]},\n",
              " {'height': [60, 70], 'zip': [11200, 11250]},\n",
              " {'height': [60, 70], 'zip': [11200, 11250]},\n",
              " {'height': [60, 70], 'zip': [11200, 11250]},\n",
              " {'height': [60, 70], 'zip': [11200, 11250]},\n",
              " {'height': [60, 70], 'zip': [11200, 11250]},\n",
              " {'height': [60, 70], 'zip': [11200, 11250]},\n",
              " {'height': [60, 70], 'zip': [11200, 11250]},\n",
              " {'height': [60, 70], 'zip': [11200, 11250]},\n",
              " {'height': [60, 70], 'zip': [11200, 11250]}]"
            ]
          },
          "execution_count": 11,
          "metadata": {},
          "output_type": "execute_result"
        }
      ],
      "source": [
        "# TODO: create list of random dictionaries\n",
        "my_data = []\n",
        "for i in range(10):\n",
        "    my_data.append({\"height\": [60, 70], \"zip\": [11200, 11250]}) \n",
        "my_data"
      ]
    },
    {
      "cell_type": "markdown",
      "metadata": {},
      "source": [
        "### More values\n",
        "\n",
        "Let's create a list of 3 random grades for each member of the list and another item with their computed average"
      ]
    },
    {
      "cell_type": "code",
      "execution_count": 14,
      "metadata": {},
      "outputs": [
        {
          "data": {
            "text/plain": [
              "[{'height': [60, 70],\n",
              "  'zip': [11200, 11250],\n",
              "  'grade': [18, 7, 57],\n",
              "  'average': 41.333333333333336},\n",
              " {'height': [60, 70],\n",
              "  'zip': [11200, 11250],\n",
              "  'grade': [16, 21, 8],\n",
              "  'average': 41.333333333333336},\n",
              " {'height': [60, 70],\n",
              "  'zip': [11200, 11250],\n",
              "  'grade': [8, 2, 74],\n",
              "  'average': 41.333333333333336},\n",
              " {'height': [60, 70],\n",
              "  'zip': [11200, 11250],\n",
              "  'grade': [50, 29, 62],\n",
              "  'average': 41.333333333333336},\n",
              " {'height': [60, 70],\n",
              "  'zip': [11200, 11250],\n",
              "  'grade': [67, 34, 52],\n",
              "  'average': 41.333333333333336},\n",
              " {'height': [60, 70],\n",
              "  'zip': [11200, 11250],\n",
              "  'grade': [26, 74, 8],\n",
              "  'average': 41.333333333333336},\n",
              " {'height': [60, 70],\n",
              "  'zip': [11200, 11250],\n",
              "  'grade': [89, 67, 33],\n",
              "  'average': 41.333333333333336},\n",
              " {'height': [60, 70],\n",
              "  'zip': [11200, 11250],\n",
              "  'grade': [73, 73, 13],\n",
              "  'average': 41.333333333333336},\n",
              " {'height': [60, 70],\n",
              "  'zip': [11200, 11250],\n",
              "  'grade': [82, 67, 44],\n",
              "  'average': 41.333333333333336},\n",
              " {'height': [60, 70],\n",
              "  'zip': [11200, 11250],\n",
              "  'grade': [34, 93, 45],\n",
              "  'average': 41.333333333333336}]"
            ]
          },
          "execution_count": 17,
          "metadata": {},
          "output_type": "execute_result"
        }
      ],
      "source": [
        "# TODO: first, append grade list to dictionaries\n",
        "for i in range(len(my_data)):\n",
        "    grade = [random.randrange(1,100) for _ in range(3)]\n",
        "    my_data[i][\"grade\"] = grade\n",
        "my_data"
      ]
    },
    {
      "cell_type": "markdown",
      "metadata": {},
      "source": [
        "### Average\n",
        "\n",
        "<img src=\"./imgs/average00.jpg\" width=\"500px\" />\n",
        "<br>\n",
        "<img src=\"./imgs/average01.jpg\" width=\"500px\" />"
      ]
    },
    {
      "cell_type": "code",
      "execution_count": 18,
      "metadata": {},
      "outputs": [
        {
          "data": {
            "text/plain": [
              "[{'height': [60, 70],\n",
              "  'zip': [11200, 11250],\n",
              "  'grade': [18, 7, 57],\n",
              "  'average': 27.333333333333332},\n",
              " {'height': [60, 70],\n",
              "  'zip': [11200, 11250],\n",
              "  'grade': [16, 21, 8],\n",
              "  'average': 15.0},\n",
              " {'height': [60, 70],\n",
              "  'zip': [11200, 11250],\n",
              "  'grade': [8, 2, 74],\n",
              "  'average': 28.0},\n",
              " {'height': [60, 70],\n",
              "  'zip': [11200, 11250],\n",
              "  'grade': [50, 29, 62],\n",
              "  'average': 47.0},\n",
              " {'height': [60, 70],\n",
              "  'zip': [11200, 11250],\n",
              "  'grade': [67, 34, 52],\n",
              "  'average': 51.0},\n",
              " {'height': [60, 70],\n",
              "  'zip': [11200, 11250],\n",
              "  'grade': [26, 74, 8],\n",
              "  'average': 36.0},\n",
              " {'height': [60, 70],\n",
              "  'zip': [11200, 11250],\n",
              "  'grade': [89, 67, 33],\n",
              "  'average': 63.0},\n",
              " {'height': [60, 70],\n",
              "  'zip': [11200, 11250],\n",
              "  'grade': [73, 73, 13],\n",
              "  'average': 53.0},\n",
              " {'height': [60, 70],\n",
              "  'zip': [11200, 11250],\n",
              "  'grade': [82, 67, 44],\n",
              "  'average': 64.33333333333333},\n",
              " {'height': [60, 70],\n",
              "  'zip': [11200, 11250],\n",
              "  'grade': [34, 93, 45],\n",
              "  'average': 57.333333333333336}]"
            ]
          },
          "execution_count": 18,
          "metadata": {},
          "output_type": "execute_result"
        }
      ],
      "source": [
        "# TODO: compute and store average of grades\n",
        "for i in range(len(my_data)):\n",
        "    average = sum(my_data[i][\"grade\"])/len(my_data[i][\"grade\"])\n",
        "    my_data[i][\"average\"] = average\n",
        "my_data"
      ]
    },
    {
      "cell_type": "markdown",
      "metadata": {},
      "source": [
        "### Get highest and lowest average grades\n",
        "\n",
        "First, get all average grades, then use `min()`/`max()`"
      ]
    },
    {
      "cell_type": "code",
      "execution_count": 20,
      "metadata": {},
      "outputs": [
        {
          "data": {
            "text/plain": [
              "(15.0, 64.33333333333333)"
            ]
          },
          "execution_count": 20,
          "metadata": {},
          "output_type": "execute_result"
        }
      ],
      "source": [
        "grades = []\n",
        "for obj in my_data:\n",
        "\n",
        "  grades.append(obj[\"average\"])\n",
        "\n",
        "min(grades), max(grades)"
      ]
    },
    {
      "cell_type": "markdown",
      "metadata": {},
      "source": [
        "### Sort dictionaries by average grades\n",
        "\n",
        "We could first get all the average grades and then sort the new list:"
      ]
    },
    {
      "cell_type": "code",
      "execution_count": 21,
      "metadata": {},
      "outputs": [
        {
          "name": "stdout",
          "output_type": "stream",
          "text": [
            "original:\n",
            " [27.333333333333332, 15.0, 28.0, 47.0, 51.0, 36.0, 63.0, 53.0, 64.33333333333333, 57.333333333333336]\n",
            "sorted:\n",
            " [15.0, 27.333333333333332, 28.0, 36.0, 47.0, 51.0, 53.0, 57.333333333333336, 63.0, 64.33333333333333]\n"
          ]
        }
      ],
      "source": [
        "grades = []\n",
        "for obj in my_data:\n",
        "  grades.append(obj[\"average\"])\n",
        "\n",
        "by_grade = sorted(grades)\n",
        "\n",
        "print(\"original:\\n\", grades)\n",
        "print(\"sorted:\\n\", by_grade)"
      ]
    },
    {
      "cell_type": "markdown",
      "metadata": {},
      "source": [
        "### But now we don't have the other associated information with each grade.\n",
        "\n",
        "We want to sort the list while keeping the dictionary elements together.\n",
        "\n",
        "Would be nice to be able to do something like this, just like with a `list`:"
      ]
    },
    {
      "cell_type": "code",
      "execution_count": 29,
      "metadata": {},
      "outputs": [
        {
          "name": "stdout",
          "output_type": "stream",
          "text": [
            "[{'height': [60, 70], 'zip': [11200, 11250], 'grade': [16, 21, 8], 'average': 15.0}, {'height': [60, 70], 'zip': [11200, 11250], 'grade': [18, 7, 57], 'average': 27.333333333333332}, {'height': [60, 70], 'zip': [11200, 11250], 'grade': [8, 2, 74], 'average': 28.0}, {'height': [60, 70], 'zip': [11200, 11250], 'grade': [26, 74, 8], 'average': 36.0}, {'height': [60, 70], 'zip': [11200, 11250], 'grade': [50, 29, 62], 'average': 47.0}, {'height': [60, 70], 'zip': [11200, 11250], 'grade': [67, 34, 52], 'average': 51.0}, {'height': [60, 70], 'zip': [11200, 11250], 'grade': [73, 73, 13], 'average': 53.0}, {'height': [60, 70], 'zip': [11200, 11250], 'grade': [34, 93, 45], 'average': 57.333333333333336}, {'height': [60, 70], 'zip': [11200, 11250], 'grade': [89, 67, 33], 'average': 63.0}, {'height': [60, 70], 'zip': [11200, 11250], 'grade': [82, 67, 44], 'average': 64.33333333333333}]\n"
          ]
        }
      ],
      "source": [
        "# print(my_data)\n",
        "by_grade = sorted(my_data, key=lambda x: x[\"average\"])\n",
        "print(by_grade)"
      ]
    },
    {
      "cell_type": "markdown",
      "metadata": {},
      "source": [
        "### Sorting Dictionaries\n",
        "\n",
        "For lists of dictionaries we have to tell python which values to compare to determine their order.\n",
        "\n",
        "We do this by defining a key function.\n",
        "\n",
        "Key functions receive one argument, that can be a dictionary, a list, a class member, anything... and they return one numerical value.\n",
        "\n",
        "This one numerical value is used to order the original list."
      ]
    },
    {
      "cell_type": "code",
      "execution_count": 31,
      "metadata": {},
      "outputs": [
        {
          "data": {
            "text/plain": [
              "[{'height': [60, 70],\n",
              "  'zip': [11200, 11250],\n",
              "  'grade': [16, 21, 8],\n",
              "  'average': 15.0},\n",
              " {'height': [60, 70],\n",
              "  'zip': [11200, 11250],\n",
              "  'grade': [18, 7, 57],\n",
              "  'average': 27.333333333333332},\n",
              " {'height': [60, 70],\n",
              "  'zip': [11200, 11250],\n",
              "  'grade': [8, 2, 74],\n",
              "  'average': 28.0},\n",
              " {'height': [60, 70],\n",
              "  'zip': [11200, 11250],\n",
              "  'grade': [26, 74, 8],\n",
              "  'average': 36.0},\n",
              " {'height': [60, 70],\n",
              "  'zip': [11200, 11250],\n",
              "  'grade': [50, 29, 62],\n",
              "  'average': 47.0},\n",
              " {'height': [60, 70],\n",
              "  'zip': [11200, 11250],\n",
              "  'grade': [67, 34, 52],\n",
              "  'average': 51.0},\n",
              " {'height': [60, 70],\n",
              "  'zip': [11200, 11250],\n",
              "  'grade': [73, 73, 13],\n",
              "  'average': 53.0},\n",
              " {'height': [60, 70],\n",
              "  'zip': [11200, 11250],\n",
              "  'grade': [34, 93, 45],\n",
              "  'average': 57.333333333333336},\n",
              " {'height': [60, 70],\n",
              "  'zip': [11200, 11250],\n",
              "  'grade': [89, 67, 33],\n",
              "  'average': 63.0},\n",
              " {'height': [60, 70],\n",
              "  'zip': [11200, 11250],\n",
              "  'grade': [82, 67, 44],\n",
              "  'average': 64.33333333333333}]"
            ]
          },
          "execution_count": 31,
          "metadata": {},
          "output_type": "execute_result"
        }
      ],
      "source": [
        "# this key function receives a student-info dictionary with {height, grade, zip, etc}\n",
        "# and should return just the average grade value\n",
        "def gradeKey(person):\n",
        "  return person[\"average\"]\n",
        "\n",
        "# then we can just use it when we call sorted()\n",
        "by_grade = sorted(my_data, key=gradeKey)\n",
        "\n",
        "by_grade"
      ]
    },
    {
      "cell_type": "code",
      "execution_count": 33,
      "metadata": {},
      "outputs": [
        {
          "data": {
            "text/plain": [
              "[{'height': [60, 70],\n",
              "  'zip': [11200, 11250],\n",
              "  'grade': [8, 2, 74],\n",
              "  'average': 28.0},\n",
              " {'height': [60, 70],\n",
              "  'zip': [11200, 11250],\n",
              "  'grade': [16, 21, 8],\n",
              "  'average': 15.0},\n",
              " {'height': [60, 70],\n",
              "  'zip': [11200, 11250],\n",
              "  'grade': [18, 7, 57],\n",
              "  'average': 27.333333333333332},\n",
              " {'height': [60, 70],\n",
              "  'zip': [11200, 11250],\n",
              "  'grade': [26, 74, 8],\n",
              "  'average': 36.0},\n",
              " {'height': [60, 70],\n",
              "  'zip': [11200, 11250],\n",
              "  'grade': [34, 93, 45],\n",
              "  'average': 57.333333333333336},\n",
              " {'height': [60, 70],\n",
              "  'zip': [11200, 11250],\n",
              "  'grade': [50, 29, 62],\n",
              "  'average': 47.0},\n",
              " {'height': [60, 70],\n",
              "  'zip': [11200, 11250],\n",
              "  'grade': [67, 34, 52],\n",
              "  'average': 51.0},\n",
              " {'height': [60, 70],\n",
              "  'zip': [11200, 11250],\n",
              "  'grade': [73, 73, 13],\n",
              "  'average': 53.0},\n",
              " {'height': [60, 70],\n",
              "  'zip': [11200, 11250],\n",
              "  'grade': [82, 67, 44],\n",
              "  'average': 64.33333333333333},\n",
              " {'height': [60, 70],\n",
              "  'zip': [11200, 11250],\n",
              "  'grade': [89, 67, 33],\n",
              "  'average': 63.0}]"
            ]
          },
          "execution_count": 33,
          "metadata": {},
          "output_type": "execute_result"
        }
      ],
      "source": [
        "# TODO: sort by first assignment grade\n",
        "def firstGrade(person):\n",
        "  return person[\"grade\"][0]\n",
        "\n",
        "# then we can just use it when we call sorted()\n",
        "first_grade = sorted(my_data, key=firstGrade)\n",
        "\n",
        "first_grade"
      ]
    },
    {
      "cell_type": "markdown",
      "metadata": {},
      "source": [
        "### `min()`/`max()` functions also work with a `key` argument:"
      ]
    },
    {
      "cell_type": "code",
      "execution_count": 34,
      "metadata": {},
      "outputs": [
        {
          "name": "stdout",
          "output_type": "stream",
          "text": [
            "{'height': [60, 70], 'zip': [11200, 11250], 'grade': [82, 67, 44], 'average': 64.33333333333333}\n",
            "{'height': [60, 70], 'zip': [11200, 11250], 'grade': [16, 21, 8], 'average': 15.0}\n"
          ]
        }
      ],
      "source": [
        "# student with highest average grade\n",
        "max_by_grade = max(my_data, key=gradeKey)\n",
        "\n",
        "# student with lowest score on first assignment\n",
        "min_by_hw01 = min(my_data, key=gradeKey)\n",
        "\n",
        "print(max_by_grade)\n",
        "print(min_by_hw01)"
      ]
    },
    {
      "cell_type": "markdown",
      "metadata": {},
      "source": [
        "### Combining dictionaries\n",
        "\n",
        "Just like we can combine multiple lists in Python using the `+` operator, we can combine multiple dictionaries using the `|` operator."
      ]
    },
    {
      "cell_type": "code",
      "execution_count": 35,
      "metadata": {},
      "outputs": [
        {
          "name": "stdout",
          "output_type": "stream",
          "text": [
            "{'name': 'thiago', 'grade': 'A', 'zip': 11211}\n"
          ]
        }
      ],
      "source": [
        "name = {\"name\": \"thiago\"}\n",
        "grade = {\"grade\": \"A\"}\n",
        "zipcode = {\"zip\": 11211}\n",
        "\n",
        "p = name | grade | zipcode\n",
        "print(p)"
      ]
    }
  ],
  "metadata": {
    "colab": {
      "authorship_tag": "ABX9TyMhuytAcbldogywX05phpmj",
      "provenance": []
    },
    "kernelspec": {
      "display_name": "Python 3",
      "name": "python3"
    },
    "language_info": {
      "codemirror_mode": {
        "name": "ipython",
        "version": 3
      },
      "file_extension": ".py",
      "mimetype": "text/x-python",
      "name": "python",
      "nbconvert_exporter": "python",
      "pygments_lexer": "ipython3",
      "version": "3.10.16"
    }
  },
  "nbformat": 4,
  "nbformat_minor": 0
}
